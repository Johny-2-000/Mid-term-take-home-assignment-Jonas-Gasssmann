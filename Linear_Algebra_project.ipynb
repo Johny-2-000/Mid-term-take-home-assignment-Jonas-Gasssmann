{
  "metadata": {
    "kernelspec": {
      "name": "python",
      "display_name": "Python (Pyodide)",
      "language": "python"
    },
    "language_info": {
      "codemirror_mode": {
        "name": "python",
        "version": 3
      },
      "file_extension": ".py",
      "mimetype": "text/x-python",
      "name": "python",
      "nbconvert_exporter": "python",
      "pygments_lexer": "ipython3",
      "version": "3.8"
    }
  },
  "nbformat_minor": 4,
  "nbformat": 4,
  "cells": [
    {
      "cell_type": "code",
      "source": "import random\nimport time\nimport numpy as np\n#matrixes are lists of lists\n\n\n\ndef main():\n    \n        for i in range(1, 10):\n            size = 2**i\n            A = matrix_construction(size)\n            B = matrix_construction(size)\n            start_time = time.time()\n            multiplication = matrix_multiplication(A, B)\n            end_time = time.time()\n            computing_time = (end_time - start_time)\n            numpy_A = np.array(A)\n            numpy_B = np.array(B)\n            start_time = time.time()\n            numpy_multiplication = np.matmul(numpy_A, numpy_B)\n            end_time = time.time()\n            numpy_computing_time = (end_time - start_time)\n\n            print(f\"size: {size} own function: {computing_time}s , numpy: {numpy_computing_time}s\")\n            \n\n\n\ndef matrix_construction(n):\n    matrix01=[]\n    for x in range(n):\n        column=[]\n        for y in range(n):\n            z =random.randint(0,10)\n            column.append(z)\n        matrix01.append(column)\n    return(matrix01)\n\ndef matrix_multiplication(x,y):\n    result_matrix=[]\n    for i in range(len(x)):\n        result_matrix_column=[]\n        for n in range(len(x)):\n            c=0\n            for v in range(len(x)):\n                q=x[i][v]\n                w=y[v][n]\n                e=q*w\n                c=c+e\n            result_matrix_column.append(c)\n        result_matrix.append(result_matrix_column)\n    return(result_matrix)\n            \n            \nif __name__ == '__main__':\n    main()\n\n",
      "metadata": {
        "trusted": true
      },
      "outputs": [
        {
          "name": "stdout",
          "text": "size: 2 own function: 0.0s , numpy: 0.0s\nsize: 4 own function: 0.0s , numpy: 0.0s\nsize: 8 own function: 0.0s , numpy: 0.0s\nsize: 16 own function: 0.0s , numpy: 0.0s\nsize: 32 own function: 0.003000020980834961s , numpy: 0.0s\nsize: 64 own function: 0.017999887466430664s , numpy: 0.0s\nsize: 128 own function: 0.1510000228881836s , numpy: 0.0009999275207519531s\nsize: 256 own function: 1.2229998111724854s , numpy: 0.01100015640258789s\nsize: 512 own function: 11.654000043869019s , numpy: 0.16899991035461426s\n",
          "output_type": "stream"
        }
      ],
      "execution_count": 4
    },
    {
      "cell_type": "code",
      "source": "import numpy as np\nimport random\nimport time\n\n\ndef main():\n    \n\n        for i in range(1, 10):  \n            size = 2\n            A = np.random.randint(0, 9, size=(size, size))\n            B = np.random.randint(0, 9, size=(size, size))\n\n            # Recursion\n            start_time = time.time()\n            multiplication = strassen_algo(A, B)\n            end_time = time.time()\n            strassens_computing_time = end_time - start_time\n\n            # no Recursion\n            start_time = time.time()\n            np_multiplication = strassens_no_rec(A, B)\n            end_time = time.time()\n            no_rec_strassens_computing_time = end_time - start_time\n\n            print(f\"size: {size} strassens: {strassens_computing_time}s , no rec: {no_rec_strassens_computing_time}s\")\n\n\ndef simple_matrix_multiplication(A, B):\n    return np.dot(A, B)\n\ndef matrix_split(matrix):\n    n = matrix.shape[0]\n    a = matrix[:n//2, :n//2]\n    b = matrix[:n//2, n//2:]\n    c = matrix[n//2:, :n//2]\n    d = matrix[n//2:, n//2:]\n    return a, b, c, d\n\ndef strassen_algo(A, B):\n    if A.shape[0] <= 2:\n        return simple_matrix_multiplication(A, B)\n    a, b, c, d = matrix_split(A)\n    e, f, g, h = matrix_split(B)\n    p1 = strassen_algo(a + d, e + h)\n    p2 = strassen_algo(d, g - e)\n    p3 = strassen_algo(a + b, h)\n    p4 = strassen_algo(b - d, g + h)\n    p5 = strassen_algo(a, f - h)\n    p6 = strassen_algo(c + d, e)\n    p7 = strassen_algo(a - c, e + f)\n    C11 = p1 + p2 - p3 + p4\n    C12 = p5 + p3\n    C21 = p6 + p2\n    C22 = p5 + p1 - p6 - p7\n    top = np.hstack((C11, C12))\n    bottom = np.hstack((C21, C22))\n    return np.vstack((top, bottom))\n\n\n\ndef strassens_no_rec(A, B):\n    a, b, c, d = matrix_split(A)\n    e, f, g, h = matrix_split(B)\n    \n    p1 = simple_matrix_multiplication(a + d, e + h)\n    p2 = simple_matrix_multiplication(d, g - e)\n    p3 = simple_matrix_multiplication(a + b, h)\n    p4 = simple_matrix_multiplication(b - d, g + h)\n    p5 = simple_matrix_multiplication(a, f - h)\n    p6 = simple_matrix_multiplication(c + d, e)\n    p7 = simple_matrix_multiplication(a - c, e + f)\n    \n    C11 = p1 + p2 - p3 + p4\n    C12 = p5 + p3\n    C21 = p6 + p2\n    C22 = p5 + p1 - p6 - p7\n    \n    top = np.hstack((C11, C12))\n    bottom = np.hstack((C21, C22))\n    return np.vstack((top, bottom))\n\n\nif __name__ == '__main__':\n    main()\n\n\n\n",
      "metadata": {
        "trusted": true
      },
      "outputs": [
        {
          "name": "stdout",
          "text": "size: 2 strassens: 0.0s , no rec: 0.0010001659393310547s\nsize: 2 strassens: 0.0s , no rec: 0.0s\nsize: 2 strassens: 0.0s , no rec: 0.0s\nsize: 2 strassens: 0.0s , no rec: 0.0009999275207519531s\nsize: 2 strassens: 0.0s , no rec: 0.0s\nsize: 2 strassens: 0.0s , no rec: 0.0s\nsize: 2 strassens: 0.0s , no rec: 0.0s\nsize: 2 strassens: 0.0s , no rec: 0.0s\nsize: 2 strassens: 0.0s , no rec: 0.0s\n",
          "output_type": "stream"
        }
      ],
      "execution_count": 6
    }
  ]
}